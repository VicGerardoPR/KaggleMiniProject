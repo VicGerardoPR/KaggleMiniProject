{
 "cells": [
  {
   "cell_type": "code",
   "execution_count": 57,
   "metadata": {
    "id": "hYNGUQTmTPtM"
   },
   "outputs": [],
   "source": [
    "import pandas as pd\n",
    "import matplotlib.pyplot as plt\n",
    "import seaborn as sns"
   ]
  },
  {
   "cell_type": "code",
   "execution_count": 58,
   "metadata": {
    "id": "uRdpuTfmVHWw"
   },
   "outputs": [],
   "source": [
    "# Load the dataset\n",
    "data = pd.read_csv(\"sales.csv\")"
   ]
  },
  {
   "cell_type": "code",
   "execution_count": 59,
   "metadata": {
    "colab": {
     "base_uri": "https://localhost:8080/"
    },
    "id": "27-IRKz1VB15",
    "outputId": "0a6160cd-3a23-4fd0-cfa2-3ca247099571"
   },
   "outputs": [
    {
     "name": "stdout",
     "output_type": "stream",
     "text": [
      "<class 'pandas.core.frame.DataFrame'>\n",
      "RangeIndex: 640840 entries, 0 to 640839\n",
      "Data columns (total 10 columns):\n",
      " #   Column               Non-Null Count   Dtype \n",
      "---  ------               --------------   ----- \n",
      " 0   Unnamed: 0           640840 non-null  int64 \n",
      " 1   store_ID             640840 non-null  int64 \n",
      " 2   day_of_week          640840 non-null  int64 \n",
      " 3   date                 640840 non-null  object\n",
      " 4   nb_customers_on_day  640840 non-null  int64 \n",
      " 5   open                 640840 non-null  int64 \n",
      " 6   promotion            640840 non-null  int64 \n",
      " 7   state_holiday        640840 non-null  object\n",
      " 8   school_holiday       640840 non-null  int64 \n",
      " 9   sales                640840 non-null  int64 \n",
      "dtypes: int64(8), object(2)\n",
      "memory usage: 48.9+ MB\n",
      "None\n",
      "          Unnamed: 0       store_ID    day_of_week  nb_customers_on_day  \\\n",
      "count  640840.000000  640840.000000  640840.000000        640840.000000   \n",
      "mean   355990.675084     558.211348       4.000189           633.398577   \n",
      "std    205536.290268     321.878521       1.996478           464.094416   \n",
      "min         0.000000       1.000000       1.000000             0.000000   \n",
      "25%    178075.750000     280.000000       2.000000           405.000000   \n",
      "50%    355948.500000     558.000000       4.000000           609.000000   \n",
      "75%    533959.250000     837.000000       6.000000           838.000000   \n",
      "max    712044.000000    1115.000000       7.000000          5458.000000   \n",
      "\n",
      "                open      promotion  school_holiday          sales  \n",
      "count  640840.000000  640840.000000   640840.000000  640840.000000  \n",
      "mean        0.830185       0.381718        0.178472    5777.469011  \n",
      "std         0.375470       0.485808        0.382910    3851.338083  \n",
      "min         0.000000       0.000000        0.000000       0.000000  \n",
      "25%         1.000000       0.000000        0.000000    3731.000000  \n",
      "50%         1.000000       0.000000        0.000000    5746.000000  \n",
      "75%         1.000000       1.000000        0.000000    7860.000000  \n",
      "max         1.000000       1.000000        1.000000   41551.000000  \n"
     ]
    }
   ],
   "source": [
    "print(data.info())\n",
    "print(data.describe())"
   ]
  },
  {
   "cell_type": "code",
   "execution_count": 60,
   "metadata": {
    "colab": {
     "base_uri": "https://localhost:8080/"
    },
    "id": "nvGuJAPwWBXU",
    "outputId": "535e7a08-91f2-4efc-8363-9f484ace3209"
   },
   "outputs": [
    {
     "name": "stdout",
     "output_type": "stream",
     "text": [
      "Missing values per column:\n",
      "Unnamed: 0             0\n",
      "store_ID               0\n",
      "day_of_week            0\n",
      "date                   0\n",
      "nb_customers_on_day    0\n",
      "open                   0\n",
      "promotion              0\n",
      "state_holiday          0\n",
      "school_holiday         0\n",
      "sales                  0\n",
      "dtype: int64\n"
     ]
    }
   ],
   "source": [
    "print(\"Missing values per column:\")\n",
    "print(data.isnull().sum())"
   ]
  },
  {
   "cell_type": "code",
   "execution_count": 61,
   "metadata": {
    "id": "pT0c_31venST"
   },
   "outputs": [],
   "source": [
    "# Feature Engineering (Example: Create a 'month' feature)\n",
    "data['date'] = pd.to_datetime(data['date'])\n",
    "data['month'] = data['date'].dt.month"
   ]
  },
  {
   "cell_type": "code",
   "execution_count": 62,
   "metadata": {
    "colab": {
     "base_uri": "https://localhost:8080/"
    },
    "id": "S7AOt1krWmRR",
    "outputId": "16a85c9c-e43a-4dc6-8357-86658ee508ff"
   },
   "outputs": [
    {
     "name": "stdout",
     "output_type": "stream",
     "text": [
      "Missing values per column:\n",
      "Unnamed: 0             0\n",
      "store_ID               0\n",
      "day_of_week            0\n",
      "date                   0\n",
      "nb_customers_on_day    0\n",
      "open                   0\n",
      "promotion              0\n",
      "state_holiday          0\n",
      "school_holiday         0\n",
      "sales                  0\n",
      "month                  0\n",
      "dtype: int64\n"
     ]
    }
   ],
   "source": [
    "# Handling missing values\n",
    "print(\"Missing values per column:\")\n",
    "print(data.isnull().sum())"
   ]
  },
  {
   "cell_type": "markdown",
   "metadata": {
    "id": "9st-2UxtWwWu"
   },
   "source": [
    "# Convert 'state_holiday' to numeric\n"
   ]
  },
  {
   "cell_type": "code",
   "execution_count": 63,
   "metadata": {
    "id": "uQkyVUTPWn58"
   },
   "outputs": [],
   "source": [
    "data['state_holiday'] = data['state_holiday'].astype(str)\n",
    "data = pd.get_dummies(data, columns=['state_holiday'], drop_first=True)"
   ]
  },
  {
   "cell_type": "markdown",
   "metadata": {
    "id": "WHAbg0BQW2ZO"
   },
   "source": [
    "# Check unique values for validation"
   ]
  },
  {
   "cell_type": "code",
   "execution_count": 64,
   "metadata": {
    "colab": {
     "base_uri": "https://localhost:8080/"
    },
    "id": "eELS5e_QW1mN",
    "outputId": "851e0236-45b4-40a6-d11d-a4153acc8da2"
   },
   "outputs": [
    {
     "name": "stdout",
     "output_type": "stream",
     "text": [
      "State holiday columns after encoding:\n",
      "   state_holiday_a  state_holiday_b  state_holiday_c\n",
      "0            False            False            False\n",
      "1            False            False            False\n",
      "2            False            False            False\n",
      "3            False            False            False\n",
      "4            False            False            False\n"
     ]
    }
   ],
   "source": [
    "print(\"State holiday columns after encoding:\")\n",
    "print(data.filter(like='state_holiday').head())"
   ]
  },
  {
   "cell_type": "markdown",
   "metadata": {
    "id": "d1VDLGcMXM-O"
   },
   "source": [
    "# Handle categorical variables in 'day_of_week', 'open', 'promotion', 'school_holiday'\n"
   ]
  },
  {
   "cell_type": "code",
   "execution_count": 65,
   "metadata": {
    "id": "U1e7qtyXXFvv"
   },
   "outputs": [],
   "source": [
    "data['day_of_week'] = data['day_of_week'].astype(int)\n",
    "data['open'] = data['open'].astype(int)\n",
    "data['promotion'] = data['promotion'].astype(int)\n",
    "data['school_holiday'] = data['school_holiday'].astype(int)"
   ]
  },
  {
   "cell_type": "code",
   "execution_count": 66,
   "metadata": {
    "id": "CG1h_7lZXeEj"
   },
   "outputs": [],
   "source": [
    "Q1 = data['sales'].quantile(0.25)\n",
    "Q3 = data['sales'].quantile(0.75)\n",
    "IQR = Q3 - Q1"
   ]
  },
  {
   "cell_type": "code",
   "execution_count": 67,
   "metadata": {
    "colab": {
     "base_uri": "https://localhost:8080/"
    },
    "id": "KtB_ZxtSXsk4",
    "outputId": "9d21be32-e90e-4ca9-adef-bec2093cac1b"
   },
   "outputs": [
    {
     "name": "stdout",
     "output_type": "stream",
     "text": [
      "Data after outlier removal: (624019, 13)\n"
     ]
    }
   ],
   "source": [
    "# Define bounds for outliers\n",
    "lower_bound = Q1 - 1.5 * IQR\n",
    "upper_bound = Q3 + 1.5 * IQR\n",
    "\n",
    "# Filter out extreme outliers\n",
    "data = data[(data['sales'] >= lower_bound) & (data['sales'] <= upper_bound)]\n",
    "print(f\"Data after outlier removal: {data.shape}\")"
   ]
  },
  {
   "cell_type": "code",
   "execution_count": 68,
   "metadata": {
    "id": "BWY1kyNqXjGV"
   },
   "outputs": [],
   "source": [
    "# Drop unnecessary columns, if any (e.g., 'date' if not used in modeling)\n",
    "data = data.drop(columns=['date'])"
   ]
  },
  {
   "cell_type": "code",
   "execution_count": 69,
   "metadata": {
    "id": "_f6yIeG-dzoF"
   },
   "outputs": [],
   "source": [
    "data = data.drop(columns=['store_ID'])"
   ]
  },
  {
   "cell_type": "code",
   "execution_count": 70,
   "metadata": {
    "colab": {
     "base_uri": "https://localhost:8080/"
    },
    "id": "jDRJHWVdYXfX",
    "outputId": "e6c868c1-9d88-43e1-b0eb-78591ef69a2d"
   },
   "outputs": [
    {
     "name": "stdout",
     "output_type": "stream",
     "text": [
      "<class 'pandas.core.frame.DataFrame'>\n",
      "Index: 624019 entries, 0 to 640839\n",
      "Data columns (total 11 columns):\n",
      " #   Column               Non-Null Count   Dtype\n",
      "---  ------               --------------   -----\n",
      " 0   Unnamed: 0           624019 non-null  int64\n",
      " 1   day_of_week          624019 non-null  int64\n",
      " 2   nb_customers_on_day  624019 non-null  int64\n",
      " 3   open                 624019 non-null  int64\n",
      " 4   promotion            624019 non-null  int64\n",
      " 5   school_holiday       624019 non-null  int64\n",
      " 6   sales                624019 non-null  int64\n",
      " 7   month                624019 non-null  int32\n",
      " 8   state_holiday_a      624019 non-null  bool \n",
      " 9   state_holiday_b      624019 non-null  bool \n",
      " 10  state_holiday_c      624019 non-null  bool \n",
      "dtypes: bool(3), int32(1), int64(7)\n",
      "memory usage: 42.3 MB\n",
      "None\n",
      "   Unnamed: 0  day_of_week  nb_customers_on_day  open  promotion  \\\n",
      "0      425390            4                  517     1          0   \n",
      "1      291687            6                  694     1          0   \n",
      "2      411278            4                  970     1          1   \n",
      "3      664714            2                  473     1          1   \n",
      "4      540835            4                 1068     1          1   \n",
      "\n",
      "   school_holiday  sales  month  state_holiday_a  state_holiday_b  \\\n",
      "0               0   4422      4            False            False   \n",
      "1               0   8297      4            False            False   \n",
      "2               0   9729      8            False            False   \n",
      "3               0   6513      5            False            False   \n",
      "4               0  10882     10            False            False   \n",
      "\n",
      "   state_holiday_c  \n",
      "0            False  \n",
      "1            False  \n",
      "2            False  \n",
      "3            False  \n",
      "4            False  \n"
     ]
    }
   ],
   "source": [
    "print(data.info())\n",
    "print(data.head())"
   ]
  },
  {
   "cell_type": "markdown",
   "metadata": {
    "id": "lzi5yhYIYhXp"
   },
   "source": [
    "Standard Scaler"
   ]
  },
  {
   "cell_type": "code",
   "execution_count": 71,
   "metadata": {
    "id": "sGE4d7QxYgD3"
   },
   "outputs": [],
   "source": [
    "from sklearn.preprocessing import StandardScaler\n",
    "\n",
    "# Features and target variable\n",
    "X = data.drop(columns=['sales'])  # All features except target\n",
    "y = data['sales']  # Target variable\n",
    "\n",
    "# Scaling features\n",
    "scaler = StandardScaler()\n",
    "X_scaled = scaler.fit_transform(X)\n",
    "\n",
    "# Converting back to a DataFrame for better readability\n",
    "X = pd.DataFrame(X_scaled, columns=X.columns)\n"
   ]
  },
  {
   "cell_type": "code",
   "execution_count": 72,
   "metadata": {
    "colab": {
     "base_uri": "https://localhost:8080/"
    },
    "id": "m613NwenZIHc",
    "outputId": "f5ab4c6e-c3e6-4a35-bf27-52e1a046fdb3"
   },
   "outputs": [
    {
     "name": "stdout",
     "output_type": "stream",
     "text": [
      "Training set: (499215, 10), Testing set: (124804, 10)\n"
     ]
    }
   ],
   "source": [
    "from sklearn.model_selection import train_test_split\n",
    "\n",
    "# Splitting into train and test sets (80% train, 20% test)\n",
    "X_train, X_test, y_train, y_test = train_test_split(X, y, test_size=0.2, random_state=42)\n",
    "\n",
    "print(f\"Training set: {X_train.shape}, Testing set: {X_test.shape}\")\n"
   ]
  },
  {
   "cell_type": "markdown",
   "metadata": {
    "id": "cWRXqj_DZOke"
   },
   "source": [
    "Linear Regression"
   ]
  },
  {
   "cell_type": "code",
   "execution_count": 73,
   "metadata": {
    "colab": {
     "base_uri": "https://localhost:8080/"
    },
    "id": "Pkg7iKaJZPRC",
    "outputId": "6596808f-3252-4192-e178-92f9a383f734"
   },
   "outputs": [
    {
     "name": "stdout",
     "output_type": "stream",
     "text": [
      "Training R² Score: 0.8489953533023333\n"
     ]
    }
   ],
   "source": [
    "from sklearn.linear_model import LinearRegression\n",
    "\n",
    "# Initialize and train the model\n",
    "model = LinearRegression()\n",
    "model.fit(X_train, y_train)\n",
    "\n",
    "# Evaluate the model on training data\n",
    "train_score = model.score(X_train, y_train)\n",
    "print(f\"Training R² Score: {train_score}\")\n"
   ]
  },
  {
   "cell_type": "code",
   "execution_count": 74,
   "metadata": {
    "colab": {
     "base_uri": "https://localhost:8080/"
    },
    "id": "QmR5KFh5aILO",
    "outputId": "3c570ca0-748a-419a-cb9d-94322f2491ec"
   },
   "outputs": [
    {
     "name": "stdout",
     "output_type": "stream",
     "text": [
      "Training MSE: 1714211.432181141, MAE: 913.8206646812179\n",
      "Testing MSE: 1704344.1091103111, MAE: 911.7079006864774\n",
      "Testing R² Score: 0.8501012681170763\n"
     ]
    }
   ],
   "source": [
    "from sklearn.metrics import mean_squared_error, mean_absolute_error, r2_score\n",
    "\n",
    "# Make predictions\n",
    "y_pred_train = model.predict(X_train)\n",
    "y_pred_test = model.predict(X_test)\n",
    "\n",
    "# Metrics for training and testing\n",
    "train_mse = mean_squared_error(y_train, y_pred_train)\n",
    "train_mae = mean_absolute_error(y_train, y_pred_train)\n",
    "test_mse = mean_squared_error(y_test, y_pred_test)\n",
    "test_mae = mean_absolute_error(y_test, y_pred_test)\n",
    "\n",
    "print(f\"Training MSE: {train_mse}, MAE: {train_mae}\")\n",
    "print(f\"Testing MSE: {test_mse}, MAE: {test_mae}\")\n",
    "\n",
    "# R² score\n",
    "test_r2 = r2_score(y_test, y_pred_test)\n",
    "print(f\"Testing R² Score: {test_r2}\")\n"
   ]
  },
  {
   "cell_type": "code",
   "execution_count": 75,
   "metadata": {},
   "outputs": [
    {
     "name": "stdout",
     "output_type": "stream",
     "text": [
      "R² (Train): 0.8900870863315279\n",
      "R² (Test): 0.8860851496855391\n"
     ]
    }
   ],
   "source": [
    "from xgboost import XGBRegressor\n",
    "model = XGBRegressor(n_estimators=1000, learning_rate=0.05)\n",
    "model.fit(X_train, y_train)\n",
    "\n",
    "y_train_pred = model.predict(X_train)\n",
    "y_test_pred = model.predict(X_test)\n",
    "\n",
    "# Calcula R²\n",
    "r2_train = r2_score(y_train, y_train_pred)\n",
    "r2_test = r2_score(y_test, y_test_pred)\n",
    "\n",
    "print(f\"R² (Train): {r2_train}\")\n",
    "print(f\"R² (Test): {r2_test}\")"
   ]
  },
  {
   "cell_type": "code",
   "execution_count": 76,
   "metadata": {},
   "outputs": [
    {
     "name": "stdout",
     "output_type": "stream",
     "text": [
      "R2 Score: 0.8841517139616388\n",
      "Mean Squared Error: 1317191.555791273\n"
     ]
    }
   ],
   "source": [
    "from sklearn.ensemble import GradientBoostingRegressor\n",
    "from sklearn.metrics import r2_score, mean_squared_error\n",
    "\n",
    "# Crear el modelo Gradient Boosting Regressor\n",
    "gb_regressor = GradientBoostingRegressor(n_estimators=100, learning_rate=0.1, max_depth=3, random_state=42)\n",
    "\n",
    "# Ajustar el modelo\n",
    "gb_regressor.fit(X_train, y_train)\n",
    "\n",
    "# Predicción y evaluación\n",
    "y_pred = gb_regressor.predict(X_test)\n",
    "r2 = r2_score(y_test, y_pred)\n",
    "mse = mean_squared_error(y_test, y_pred)\n",
    "\n",
    "print(f\"R2 Score: {r2}\")\n",
    "print(f\"Mean Squared Error: {mse}\")\n"
   ]
  }
 ],
 "metadata": {
  "colab": {
   "provenance": []
  },
  "kernelspec": {
   "display_name": "Python 3 (ipykernel)",
   "language": "python",
   "name": "python3"
  },
  "language_info": {
   "codemirror_mode": {
    "name": "ipython",
    "version": 3
   },
   "file_extension": ".py",
   "mimetype": "text/x-python",
   "name": "python",
   "nbconvert_exporter": "python",
   "pygments_lexer": "ipython3",
   "version": "3.11.5"
  }
 },
 "nbformat": 4,
 "nbformat_minor": 4
}
